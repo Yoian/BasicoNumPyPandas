{
 "cells": [
  {
   "cell_type": "code",
   "execution_count": 1,
   "metadata": {},
   "outputs": [],
   "source": [
    "import numpy as np"
   ]
  },
  {
   "cell_type": "code",
   "execution_count": 19,
   "metadata": {},
   "outputs": [
    {
     "name": "stdout",
     "output_type": "stream",
     "text": [
      "42\n"
     ]
    },
    {
     "data": {
      "text/plain": [
       "0"
      ]
     },
     "execution_count": 19,
     "metadata": {},
     "output_type": "execute_result"
    }
   ],
   "source": [
    "scalar = np.array(42)\n",
    "print(scalar)\n",
    "scalar.ndim"
   ]
  },
  {
   "cell_type": "code",
   "execution_count": 7,
   "metadata": {},
   "outputs": [
    {
     "name": "stdout",
     "output_type": "stream",
     "text": [
      "[1 2 3]\n"
     ]
    },
    {
     "data": {
      "text/plain": [
       "1"
      ]
     },
     "execution_count": 7,
     "metadata": {},
     "output_type": "execute_result"
    }
   ],
   "source": [
    "vector = np.array([1,2,3])\n",
    "print(vector)\n",
    "vector.ndim"
   ]
  },
  {
   "cell_type": "code",
   "execution_count": 10,
   "metadata": {},
   "outputs": [
    {
     "name": "stdout",
     "output_type": "stream",
     "text": [
      "[[[1 2 3]\n",
      "  [4 5 6]\n",
      "  [4 5 6]\n",
      "  [4 5 6]\n",
      "  [4 5 6]]\n",
      "\n",
      " [[1 2 3]\n",
      "  [4 5 6]\n",
      "  [4 5 6]\n",
      "  [4 5 6]\n",
      "  [4 5 6]]]\n"
     ]
    },
    {
     "data": {
      "text/plain": [
       "3"
      ]
     },
     "execution_count": 10,
     "metadata": {},
     "output_type": "execute_result"
    }
   ],
   "source": [
    "matriz = np.array([[[1,2,3],[4,5,6],[4,5,6],[4,5,6],[4,5,6]],[[1,2,3],[4,5,6],[4,5,6],[4,5,6],[4,5,6]]])\n",
    "print(matriz)\n",
    "matriz.ndim"
   ]
  },
  {
   "attachments": {},
   "cell_type": "markdown",
   "metadata": {},
   "source": [
    "## Agregar o eliminar dimensiones"
   ]
  },
  {
   "cell_type": "code",
   "execution_count": 11,
   "metadata": {},
   "outputs": [
    {
     "name": "stdout",
     "output_type": "stream",
     "text": [
      "[[[[[[[[[[1 2 3]]]]]]]]]]\n"
     ]
    },
    {
     "data": {
      "text/plain": [
       "10"
      ]
     },
     "execution_count": 11,
     "metadata": {},
     "output_type": "execute_result"
    }
   ],
   "source": [
    "vector = np.array([1,2,3],ndmin=10)\n",
    "print(vector)\n",
    "vector.ndim"
   ]
  },
  {
   "cell_type": "code",
   "execution_count": 12,
   "metadata": {},
   "outputs": [
    {
     "name": "stdout",
     "output_type": "stream",
     "text": [
      "[[1 2 3]]\n"
     ]
    },
    {
     "data": {
      "text/plain": [
       "2"
      ]
     },
     "execution_count": 12,
     "metadata": {},
     "output_type": "execute_result"
    }
   ],
   "source": [
    "expand = np.expand_dims(np.array([1,2,3]),axis=0)\n",
    "print(expand)\n",
    "expand.ndim"
   ]
  },
  {
   "cell_type": "code",
   "execution_count": 14,
   "metadata": {},
   "outputs": [
    {
     "name": "stdout",
     "output_type": "stream",
     "text": [
      "[[[[[[[[[[1 2 3]]]]]]]]]] 10\n",
      "[1 2 3] 10\n"
     ]
    }
   ],
   "source": [
    "print(vector,vector.ndim)\n",
    "vector_2 = np.squeeze(vector)\n",
    "print(vector_2, vector.ndim)"
   ]
  },
  {
   "cell_type": "code",
   "execution_count": 17,
   "metadata": {},
   "outputs": [
    {
     "name": "stdout",
     "output_type": "stream",
     "text": [
      "[[1]\n",
      " [2]\n",
      " [3]]\n"
     ]
    },
    {
     "data": {
      "text/plain": [
       "2"
      ]
     },
     "execution_count": 17,
     "metadata": {},
     "output_type": "execute_result"
    }
   ],
   "source": [
    "expand = np.expand_dims(np.array([1,2,3]),axis=1)\n",
    "print(expand)\n",
    "expand.ndim"
   ]
  },
  {
   "cell_type": "code",
   "execution_count": 22,
   "metadata": {},
   "outputs": [
    {
     "data": {
      "text/plain": [
       "array([[[[[12, 45],\n",
       "          [43, 65]],\n",
       "\n",
       "         [[12, 45],\n",
       "          [43, 65]]],\n",
       "\n",
       "\n",
       "        [[[12, 45],\n",
       "          [43, 65]],\n",
       "\n",
       "         [[12, 45],\n",
       "          [43, 65]]]],\n",
       "\n",
       "\n",
       "\n",
       "       [[[[12, 45],\n",
       "          [43, 65]],\n",
       "\n",
       "         [[12, 45],\n",
       "          [43, 65]]],\n",
       "\n",
       "\n",
       "        [[[12, 45],\n",
       "          [43, 65]],\n",
       "\n",
       "         [[12, 45],\n",
       "          [43, 65]]]]])"
      ]
     },
     "execution_count": 22,
     "metadata": {},
     "output_type": "execute_result"
    }
   ],
   "source": [
    "Ejercicio = np.array([[[[[12,45],[43,65]],[[12,45],[43,65]]],[[[12,45],[43,65]],[[12,45],[43,65]]]],[[[[12,45],[43,65]],[[12,45],[43,65]]],[[[12,45],[43,65]],[[12,45],[43,65]]]]])\n",
    "Ejercicio"
   ]
  },
  {
   "cell_type": "code",
   "execution_count": 28,
   "metadata": {},
   "outputs": [
    {
     "data": {
      "text/plain": [
       "array([[[[[[12, 45],\n",
       "           [43, 65]]],\n",
       "\n",
       "\n",
       "         [[[12, 45],\n",
       "           [43, 65]]]],\n",
       "\n",
       "\n",
       "\n",
       "        [[[[12, 45],\n",
       "           [43, 65]]],\n",
       "\n",
       "\n",
       "         [[[12, 45],\n",
       "           [43, 65]]]]],\n",
       "\n",
       "\n",
       "\n",
       "\n",
       "       [[[[[12, 45],\n",
       "           [43, 65]]],\n",
       "\n",
       "\n",
       "         [[[12, 45],\n",
       "           [43, 65]]]],\n",
       "\n",
       "\n",
       "\n",
       "        [[[[12, 45],\n",
       "           [43, 65]]],\n",
       "\n",
       "\n",
       "         [[[12, 45],\n",
       "           [43, 65]]]]]])"
      ]
     },
     "execution_count": 28,
     "metadata": {},
     "output_type": "execute_result"
    }
   ],
   "source": [
    "A = np.expand_dims(Ejercicio,axis=3)\n",
    "A"
   ]
  },
  {
   "cell_type": "code",
   "execution_count": null,
   "metadata": {},
   "outputs": [],
   "source": []
  }
 ],
 "metadata": {
  "kernelspec": {
   "display_name": "venv",
   "language": "python",
   "name": "python3"
  },
  "language_info": {
   "codemirror_mode": {
    "name": "ipython",
    "version": 3
   },
   "file_extension": ".py",
   "mimetype": "text/x-python",
   "name": "python",
   "nbconvert_exporter": "python",
   "pygments_lexer": "ipython3",
   "version": "3.11.1"
  },
  "orig_nbformat": 4,
  "vscode": {
   "interpreter": {
    "hash": "79a35e78029a45dec5466916cf95851f459d127dd772624896af2c2e14ae4e9a"
   }
  }
 },
 "nbformat": 4,
 "nbformat_minor": 2
}
